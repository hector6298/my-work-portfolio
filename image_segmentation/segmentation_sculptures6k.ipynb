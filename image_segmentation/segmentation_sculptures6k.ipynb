{
  "nbformat": 4,
  "nbformat_minor": 0,
  "metadata": {
    "colab": {
      "name": "segmentation_sculptures(1).ipynb",
      "provenance": [],
      "collapsed_sections": [],
      "toc_visible": true,
      "include_colab_link": true
    },
    "kernelspec": {
      "name": "python3",
      "display_name": "Python 3"
    },
    "accelerator": "GPU"
  },
  "cells": [
    {
      "cell_type": "markdown",
      "metadata": {
        "id": "view-in-github",
        "colab_type": "text"
      },
      "source": [
        "<a href=\"https://colab.research.google.com/github/hector6298/Deep-Learning-Collab-notebooks/blob/master/segmentation_sculptures6k.ipynb\" target=\"_parent\"><img src=\"https://colab.research.google.com/assets/colab-badge.svg\" alt=\"Open In Colab\"/></a>"
      ]
    },
    {
      "cell_type": "markdown",
      "metadata": {
        "id": "MLiVjxj-ax02",
        "colab_type": "text"
      },
      "source": [
        "#Modified U-net with EfficientNetB7 as the encoder\n",
        "\n",
        "*   Using ImageDataGenerator\n",
        "*   Sculptures 6k dataset\n",
        "\n"
      ]
    },
    {
      "cell_type": "markdown",
      "metadata": {
        "id": "bim6_mvwbAQh",
        "colab_type": "text"
      },
      "source": [
        "This collab is made to train a segmentation model with a custom dataset, not from tensorflow APIs."
      ]
    },
    {
      "cell_type": "markdown",
      "metadata": {
        "id": "8cFqL3QZbdTL",
        "colab_type": "text"
      },
      "source": [
        "Thi line is just to mount your Google Drive. You can skip it if you want."
      ]
    },
    {
      "cell_type": "code",
      "metadata": {
        "id": "5It42tsETTY_",
        "colab_type": "code",
        "colab": {
          "base_uri": "https://localhost:8080/",
          "height": 34
        },
        "outputId": "b26fb591-2ba6-4ec2-f26d-d14d23db42cd"
      },
      "source": [
        "from google.colab import drive, files\n",
        "drive.mount('/content/drive')"
      ],
      "execution_count": null,
      "outputs": [
        {
          "output_type": "stream",
          "text": [
            "Drive already mounted at /content/drive; to attempt to forcibly remount, call drive.mount(\"/content/drive\", force_remount=True).\n"
          ],
          "name": "stdout"
        }
      ]
    },
    {
      "cell_type": "markdown",
      "metadata": {
        "id": "AgG8Ubp2fyK4",
        "colab_type": "text"
      },
      "source": [
        "Remove useless data from Collab."
      ]
    },
    {
      "cell_type": "code",
      "metadata": {
        "id": "I8SzBokafzw_",
        "colab_type": "code",
        "colab": {}
      },
      "source": [
        "!rm -r /content/sample_data"
      ],
      "execution_count": null,
      "outputs": []
    },
    {
      "cell_type": "markdown",
      "metadata": {
        "id": "lABZMeFKmk1r",
        "colab_type": "text"
      },
      "source": [
        "Download and set raw COCO data"
      ]
    },
    {
      "cell_type": "code",
      "metadata": {
        "id": "DT5m644iofwT",
        "colab_type": "code",
        "colab": {
          "base_uri": "https://localhost:8080/",
          "height": 399
        },
        "outputId": "29425b74-1e0d-476d-8bce-fb04219e2eda"
      },
      "source": [
        "!wget https://www.robots.ox.ac.uk/~vgg/data/sculptures6k/sculptures6k.tar.gz\n",
        "!wget https://www.robots.ox.ac.uk/~vgg/data/sculptures6k/sculptures6k_segmentations.tar.gz"
      ],
      "execution_count": null,
      "outputs": [
        {
          "output_type": "stream",
          "text": [
            "--2020-08-29 03:41:14--  https://www.robots.ox.ac.uk/~vgg/data/sculptures6k/sculptures6k.tar.gz\n",
            "Resolving www.robots.ox.ac.uk (www.robots.ox.ac.uk)... 129.67.94.2\n",
            "Connecting to www.robots.ox.ac.uk (www.robots.ox.ac.uk)|129.67.94.2|:443... connected.\n",
            "HTTP request sent, awaiting response... 200 OK\n",
            "Length: 781175117 (745M) [application/x-gzip]\n",
            "Saving to: ‘sculptures6k.tar.gz’\n",
            "\n",
            "sculptures6k.tar.gz 100%[===================>] 744.99M  21.5MB/s    in 35s     \n",
            "\n",
            "2020-08-29 03:41:51 (21.1 MB/s) - ‘sculptures6k.tar.gz’ saved [781175117/781175117]\n",
            "\n",
            "--2020-08-29 03:41:51--  https://www.robots.ox.ac.uk/~vgg/data/sculptures6k/sculptures6k_segmentations.tar.gz\n",
            "Resolving www.robots.ox.ac.uk (www.robots.ox.ac.uk)... 129.67.94.2\n",
            "Connecting to www.robots.ox.ac.uk (www.robots.ox.ac.uk)|129.67.94.2|:443... connected.\n",
            "HTTP request sent, awaiting response... 200 OK\n",
            "Length: 15762936 (15M) [application/x-gzip]\n",
            "Saving to: ‘sculptures6k_segmentations.tar.gz’\n",
            "\n",
            "sculptures6k_segmen 100%[===================>]  15.03M  9.97MB/s    in 1.5s    \n",
            "\n",
            "2020-08-29 03:41:53 (9.97 MB/s) - ‘sculptures6k_segmentations.tar.gz’ saved [15762936/15762936]\n",
            "\n"
          ],
          "name": "stdout"
        }
      ]
    },
    {
      "cell_type": "markdown",
      "metadata": {
        "id": "bqeTXPOScBpp",
        "colab_type": "text"
      },
      "source": [
        "Install tensorflow examples to use Pix2Pix for the upsamplers in the decoding part."
      ]
    },
    {
      "cell_type": "code",
      "metadata": {
        "id": "KAmVD8IbVNhO",
        "colab_type": "code",
        "colab": {
          "base_uri": "https://localhost:8080/",
          "height": 121
        },
        "outputId": "edcd81d0-7114-4dd3-deb1-61b509d4efd0"
      },
      "source": [
        "!pip install -q git+https://github.com/tensorflow/examples.git\n",
        "!pip install --upgrade tensorflow-hub"
      ],
      "execution_count": null,
      "outputs": [
        {
          "output_type": "stream",
          "text": [
            "  Building wheel for tensorflow-examples (setup.py) ... \u001b[?25l\u001b[?25hdone\n",
            "Requirement already up-to-date: tensorflow-hub in /usr/local/lib/python3.6/dist-packages (0.9.0)\n",
            "Requirement already satisfied, skipping upgrade: six>=1.12.0 in /usr/local/lib/python3.6/dist-packages (from tensorflow-hub) (1.15.0)\n",
            "Requirement already satisfied, skipping upgrade: protobuf>=3.8.0 in /usr/local/lib/python3.6/dist-packages (from tensorflow-hub) (3.12.4)\n",
            "Requirement already satisfied, skipping upgrade: numpy>=1.12.0 in /usr/local/lib/python3.6/dist-packages (from tensorflow-hub) (1.18.5)\n",
            "Requirement already satisfied, skipping upgrade: setuptools in /usr/local/lib/python3.6/dist-packages (from protobuf>=3.8.0->tensorflow-hub) (49.6.0)\n"
          ],
          "name": "stdout"
        }
      ]
    },
    {
      "cell_type": "code",
      "metadata": {
        "id": "UBmrkV82rxb1",
        "colab_type": "code",
        "colab": {}
      },
      "source": [
        "!tar -xvf /content/sculptures6k.tar.gz\n",
        "!tar -xvf /content/sculptures6k_segmentations.tar.gz"
      ],
      "execution_count": null,
      "outputs": []
    },
    {
      "cell_type": "code",
      "metadata": {
        "id": "2YcWp01e_zBL",
        "colab_type": "code",
        "colab": {}
      },
      "source": [
        "!rm /content/sculptures6k/train/Rodin_Burghers_of_Calais_0314.jpg\n",
        "!rm /content/sculptures6k/train/Rodin_Crouching_Woman_0034.jpg\n",
        "!rm /content/sculptures6k/train/Rodin_Eternal_Idol_0002.jpg"
      ],
      "execution_count": null,
      "outputs": []
    },
    {
      "cell_type": "markdown",
      "metadata": {
        "id": "6crmwUrtmqfw",
        "colab_type": "text"
      },
      "source": [
        "##Python Code"
      ]
    },
    {
      "cell_type": "code",
      "metadata": {
        "id": "4BHk4s2_LBB_",
        "colab_type": "code",
        "colab": {}
      },
      "source": [
        "%matplotlib inline\n",
        "import os\n",
        "import numpy as np\n",
        "import skimage.io as io\n",
        "import matplotlib.pyplot as plt\n",
        "import pylab\n",
        "import tensorflow as tf\n",
        "import cv2\n",
        "from tensorflow import keras\n",
        "from tensorflow.keras.preprocessing.image import ImageDataGenerator\n",
        "from skimage.transform import resize\n",
        "from tensorflow_examples.models.pix2pix import pix2pix\n",
        "import tensorflow_hub as hub\n",
        "\n",
        "pylab.rcParams['figure.figsize'] = (8.0, 10.0)"
      ],
      "execution_count": null,
      "outputs": []
    },
    {
      "cell_type": "markdown",
      "metadata": {
        "id": "vtx49mI6m1lV",
        "colab_type": "text"
      },
      "source": [
        "#Main Code"
      ]
    },
    {
      "cell_type": "markdown",
      "metadata": {
        "id": "EojA-xYndidP",
        "colab_type": "text"
      },
      "source": [
        "## hyperparameters."
      ]
    },
    {
      "cell_type": "code",
      "metadata": {
        "id": "86JkIGpydjld",
        "colab_type": "code",
        "colab": {}
      },
      "source": [
        "INPUT_SHAPE = (224,224)\n",
        "EPOCHS = 10\n",
        "VAL_SUBSPLITS = 5\n",
        "BATCH_SIZE = 100\n",
        "LEARNING_RATE = 0.0005\n",
        "OUTPUT_CHANNELS = 2"
      ],
      "execution_count": null,
      "outputs": []
    },
    {
      "cell_type": "markdown",
      "metadata": {
        "id": "Vg7Dfh7nmK9U",
        "colab_type": "text"
      },
      "source": [
        "Create ImageDataGenerator objects to feed the network"
      ]
    },
    {
      "cell_type": "code",
      "metadata": {
        "id": "o3wirVuC0RVe",
        "colab_type": "code",
        "colab": {}
      },
      "source": [
        "data_gen_args = dict(featurewise_center=False,\n",
        "                     featurewise_std_normalization=False,\n",
        "                     width_shift_range=0.1,\n",
        "                     height_shift_range=0.1,\n",
        "                     horizontal_flip=True)\n"
      ],
      "execution_count": null,
      "outputs": []
    },
    {
      "cell_type": "code",
      "metadata": {
        "id": "KDBEqtDhdnpG",
        "colab_type": "code",
        "colab": {}
      },
      "source": [
        "import random\n",
        "class DataGenerator(keras.utils.Sequence):\n",
        "  def __init__(self,\n",
        "               imgPath,\n",
        "               maskPath,\n",
        "               is_training=True,\n",
        "               batch_size=8,\n",
        "               input_shape=(224,224),\n",
        "               num_channels = 3,\n",
        "               shuffle=True,\n",
        "               augmentationParams=None,\n",
        "               seed = 3\n",
        "               ):\n",
        "    self.batch_size = batch_size\n",
        "    self.input_shape = input_shape\n",
        "    self.num_channels = num_channels\n",
        "    self.shuffle = shuffle\n",
        "    self.imgPath = imgPath\n",
        "    self.maskPath = maskPath\n",
        "    self.imgFiles = os.listdir(imgPath)\n",
        "    self.maskFiles = os.listdir(maskPath)\n",
        "\n",
        "    self.imgFiles.sort()\n",
        "    self.maskFiles.sort()\n",
        "\n",
        "    self.is_training = is_training\n",
        "    self.n = 0\n",
        "    self.seed = seed\n",
        "    if augmentationParams is not None:\n",
        "      self.augmentationEngineIMG = ImageDataGenerator(**augmentationParams)\n",
        "      self.augmentationEngineMASK = ImageDataGenerator(**augmentationParams)\n",
        "    assert len(self.imgFiles) == len(self.maskFiles), f\"Error, both images and mask samples must be equal, but got: {len(self.imgFiles),len(self.maskFiles)} respectively\"\n",
        "      \n",
        "  def __next__(self):\n",
        "    batch_x, batch_y = self.__getitem__(self.n)\n",
        "    self.n += 1\n",
        "    if self.n >= self.__len__():\n",
        "      self.on_epoch_end()\n",
        "      \n",
        "    return batch_x, batch_y\n",
        "  \n",
        "  def __len__(self):\n",
        "    return int(np.floor(len(self.imgFiles)/float(self.batch_size)))\n",
        "  \n",
        "  def reset_batch_index(self):\n",
        "    self.n = 0\n",
        "\n",
        "  def on_epoch_end(self):\n",
        "    self.n = 0\n",
        "\n",
        "  def __getitem__(self, idx):\n",
        "    sample_i = self.imgFiles[idx*self.batch_size:(idx+1)*self.batch_size]\n",
        "    sample_m = self.maskFiles[idx*self.batch_size:(idx+1)*self.batch_size]\n",
        "    batch_x = np.empty((self.batch_size, self.input_shape[0], self.input_shape[1], self.num_channels), dtype=np.float32)\n",
        "    batch_y = np.empty((self.batch_size, self.input_shape[0], self.input_shape[1], 1), dtype=np.float32)\n",
        "\n",
        "    for i in range(self.batch_size):\n",
        "      img = io.imread(f\"{self.imgPath}/{sample_i[i]}\")\n",
        "      mask = io.imread(f\"{self.maskPath}/{sample_m[i]}\", as_gray=True)\n",
        "      mask = np.expand_dims(mask, axis=2)\n",
        "      if(len(img.shape) < 3):\n",
        "        img = np.expand_dims(img,axis=2)\n",
        "\n",
        "      #print(mask.shape)\n",
        "      img = resize(img, self.input_shape)\n",
        "      mask = resize(mask, self.input_shape)\n",
        "      #print(mask.shape)\n",
        "      if self.is_training and hasattr(self,'augmentationEngineIMG'):\n",
        "        img = self.augmentationEngineIMG.random_transform(img, seed=self.seed)\n",
        "        mask = self.augmentationEngineMASK.random_transform(mask, seed=self.seed)\n",
        "   \n",
        "      batch_x[i] = img\n",
        "      batch_y[i] = mask\n",
        " \n",
        "\n",
        "    return batch_x, batch_y\n"
      ],
      "execution_count": null,
      "outputs": []
    },
    {
      "cell_type": "code",
      "metadata": {
        "id": "KRgz5Po0ujXD",
        "colab_type": "code",
        "colab": {}
      },
      "source": [
        "train_generator = DataGenerator(\"/content/sculptures6k/train\",\n",
        "                                \"/content/sculptures6k_segmentations/train\",\n",
        "                                batch_size=BATCH_SIZE,\n",
        "                                input_shape=INPUT_SHAPE,\n",
        "                                augmentationParams=data_gen_args\n",
        "                                )\n",
        "test_generator = DataGenerator(\"/content/sculptures6k/test\",\n",
        "                                \"/content/sculptures6k_segmentations/test\",\n",
        "                                batch_size=BATCH_SIZE,\n",
        "                                input_shape=INPUT_SHAPE,\n",
        "                                augmentationParams=data_gen_args\n",
        "                                )"
      ],
      "execution_count": null,
      "outputs": []
    },
    {
      "cell_type": "markdown",
      "metadata": {
        "id": "mTDP5RSDedFY",
        "colab_type": "text"
      },
      "source": [
        "##Let's define the model"
      ]
    },
    {
      "cell_type": "markdown",
      "metadata": {
        "id": "TPWLMPEb5GcA",
        "colab_type": "text"
      },
      "source": [
        "Install eficcientnet for tensorflow keras"
      ]
    },
    {
      "cell_type": "code",
      "metadata": {
        "id": "7aXil2L65Cnp",
        "colab_type": "code",
        "colab": {
          "base_uri": "https://localhost:8080/",
          "height": 399
        },
        "outputId": "55e76a8d-99de-4d15-842a-c7277356e9b6"
      },
      "source": [
        "!pip3 install efficientnet\n",
        "import efficientnet.tfkeras\n"
      ],
      "execution_count": null,
      "outputs": [
        {
          "output_type": "stream",
          "text": [
            "Collecting efficientnet\n",
            "  Downloading https://files.pythonhosted.org/packages/28/91/67848a143b54c331605bfba5fd31cf4e9db13d2e429d103fe807acc3bcf4/efficientnet-1.1.0-py3-none-any.whl\n",
            "Requirement already satisfied: scikit-image in /usr/local/lib/python3.6/dist-packages (from efficientnet) (0.16.2)\n",
            "Collecting keras-applications<=1.0.8,>=1.0.7\n",
            "\u001b[?25l  Downloading https://files.pythonhosted.org/packages/71/e3/19762fdfc62877ae9102edf6342d71b28fbfd9dea3d2f96a882ce099b03f/Keras_Applications-1.0.8-py3-none-any.whl (50kB)\n",
            "\u001b[K     |████████████████████████████████| 51kB 3.7MB/s \n",
            "\u001b[?25hRequirement already satisfied: pillow>=4.3.0 in /usr/local/lib/python3.6/dist-packages (from scikit-image->efficientnet) (7.0.0)\n",
            "Requirement already satisfied: networkx>=2.0 in /usr/local/lib/python3.6/dist-packages (from scikit-image->efficientnet) (2.5)\n",
            "Requirement already satisfied: matplotlib!=3.0.0,>=2.0.0 in /usr/local/lib/python3.6/dist-packages (from scikit-image->efficientnet) (3.2.2)\n",
            "Requirement already satisfied: imageio>=2.3.0 in /usr/local/lib/python3.6/dist-packages (from scikit-image->efficientnet) (2.4.1)\n",
            "Requirement already satisfied: scipy>=0.19.0 in /usr/local/lib/python3.6/dist-packages (from scikit-image->efficientnet) (1.4.1)\n",
            "Requirement already satisfied: PyWavelets>=0.4.0 in /usr/local/lib/python3.6/dist-packages (from scikit-image->efficientnet) (1.1.1)\n",
            "Requirement already satisfied: h5py in /usr/local/lib/python3.6/dist-packages (from keras-applications<=1.0.8,>=1.0.7->efficientnet) (2.10.0)\n",
            "Requirement already satisfied: numpy>=1.9.1 in /usr/local/lib/python3.6/dist-packages (from keras-applications<=1.0.8,>=1.0.7->efficientnet) (1.18.5)\n",
            "Requirement already satisfied: decorator>=4.3.0 in /usr/local/lib/python3.6/dist-packages (from networkx>=2.0->scikit-image->efficientnet) (4.4.2)\n",
            "Requirement already satisfied: pyparsing!=2.0.4,!=2.1.2,!=2.1.6,>=2.0.1 in /usr/local/lib/python3.6/dist-packages (from matplotlib!=3.0.0,>=2.0.0->scikit-image->efficientnet) (2.4.7)\n",
            "Requirement already satisfied: kiwisolver>=1.0.1 in /usr/local/lib/python3.6/dist-packages (from matplotlib!=3.0.0,>=2.0.0->scikit-image->efficientnet) (1.2.0)\n",
            "Requirement already satisfied: cycler>=0.10 in /usr/local/lib/python3.6/dist-packages (from matplotlib!=3.0.0,>=2.0.0->scikit-image->efficientnet) (0.10.0)\n",
            "Requirement already satisfied: python-dateutil>=2.1 in /usr/local/lib/python3.6/dist-packages (from matplotlib!=3.0.0,>=2.0.0->scikit-image->efficientnet) (2.8.1)\n",
            "Requirement already satisfied: six in /usr/local/lib/python3.6/dist-packages (from h5py->keras-applications<=1.0.8,>=1.0.7->efficientnet) (1.15.0)\n",
            "Installing collected packages: keras-applications, efficientnet\n",
            "Successfully installed efficientnet-1.1.0 keras-applications-1.0.8\n"
          ],
          "name": "stdout"
        }
      ]
    },
    {
      "cell_type": "code",
      "metadata": {
        "id": "MTAgsPT3ecWW",
        "colab_type": "code",
        "colab": {}
      },
      "source": [
        "base_model = tf.keras.applications.resnet_v2.ResNet50V2(weights='imagenet', input_shape=(*INPUT_SHAPE,3), include_top=False)\n",
        "\n",
        "layernames = [\"conv1_conv\",               #128 channels\n",
        "              \"conv2_block3_preact_relu\", #256 channels\n",
        "              \"conv3_block4_preact_relu\", #512 channels\n",
        "              \"conv4_block6_preact_relu\", #1024 channels\n",
        "              \"post_relu\"] #2048 channels   \n",
        "layers = [base_model.get_layer(name).output for name in layernames]\n",
        "downsample_stack = tf.keras.Model(inputs=base_model.input, outputs=layers)\n",
        "downsample_stack.trainable = False\n",
        "\n",
        "upsample_stack = [pix2pix.upsample(1024,3),\n",
        "                  pix2pix.upsample(512,3),\n",
        "                  pix2pix.upsample(256,3),\n",
        "                  pix2pix.upsample(128,3),\n",
        "                  pix2pix.upsample(64,3)]\n"
      ],
      "execution_count": null,
      "outputs": []
    },
    {
      "cell_type": "code",
      "metadata": {
        "colab_type": "code",
        "id": "YDlgV0Ib6ypc",
        "colab": {}
      },
      "source": [
        "#base_model = tf.keras.applications.resnet_v2.ResNet50V2(weights='imagenet', input_shape=INPUT_SHAPE, include_top=False)\n",
        "\n",
        "base_model = efficientnet.tfkeras.EfficientNetB0(weights='imagenet', include_top=False, input_shape=[224,224,3])\n",
        "\n",
        "layernames = [\"block1a_project_bn\", #(112,112,16)\n",
        "              \"block2b_drop\", #(56,56,24)\n",
        "              \"block3b_drop\", #(28,28,40)\n",
        "              \"block4c_drop\", #(14,14,80) \n",
        "              \"block6d_drop\", #(7,7,192)\n",
        "              ]   \n",
        "\n",
        "layers = [base_model.get_layer(name).output for name in layernames]\n",
        "downsample_stack = tf.keras.Model(inputs=base_model.input, outputs=layers)\n",
        "downsample_stack.trainable = False\n",
        "\n",
        "upsample_stack = [pix2pix.upsample(96,3),\n",
        "                  pix2pix.upsample(40,3),\n",
        "                  pix2pix.upsample(20,3),\n",
        "                  pix2pix.upsample(12,3),\n",
        "                  pix2pix.upsample(8,3),\n",
        "                  ]\n"
      ],
      "execution_count": null,
      "outputs": []
    },
    {
      "cell_type": "code",
      "metadata": {
        "id": "2ymuCIq2tI8A",
        "colab_type": "code",
        "colab": {}
      },
      "source": [
        "def mod_unet_efficientnet(output_channels, input_shape=[224,224,3]):\n",
        "  inputs = tf.keras.layers.Input(shape=input_shape)\n",
        "  x = inputs\n",
        "  #encoder\n",
        "  skips = downsample_stack(x)\n",
        "  #get last of the outputs for bottleneck\n",
        "  x = skips[-1]\n",
        "  skips = reversed(skips[:-1])\n",
        "\n",
        "  #decoder\n",
        "  it = 0\n",
        "  for layer_enc, skip in zip(upsample_stack, skips):\n",
        "    layer_enc.trainable = False\n",
        "    print(it)\n",
        "    x = layer_enc(x)\n",
        "    concat = tf.keras.layers.Concatenate()\n",
        "    x = concat([x,skip])\n",
        "    \n",
        "    it += 1\n",
        "\n",
        "  #last layer\n",
        "\n",
        "  last = tf.keras.layers.Conv2DTranspose(\n",
        "      output_channels, 3, strides=2, padding='same', name='outMask', trainable=True\n",
        "  )\n",
        "\n",
        "  x = last(x)\n",
        "  #x = tf.keras.activations.softmax(x)\n",
        "\n",
        "  return tf.keras.Model(inputs=inputs, outputs=x)\n"
      ],
      "execution_count": null,
      "outputs": []
    },
    {
      "cell_type": "markdown",
      "metadata": {
        "id": "AF5_Vcele_Jt",
        "colab_type": "text"
      },
      "source": [
        "Define Our IOU metric before compiling. Default MeanIoU class does not support results from multiple channels that serves as logits"
      ]
    },
    {
      "cell_type": "code",
      "metadata": {
        "id": "pq9fK-ZZfDfd",
        "colab_type": "code",
        "colab": {}
      },
      "source": [
        "class meanIoU(tf.keras.metrics.MeanIoU):\n",
        "    def update_state(self, y_true, y_pred, sample_weight=None):\n",
        "        y_pred = tf.argmax(y_pred, axis=-1)\n",
        "        y_pred = y_pred[..., tf.newaxis]\n",
        "        return super().update_state(y_true, y_pred, sample_weight=sample_weight)\n"
      ],
      "execution_count": null,
      "outputs": []
    },
    {
      "cell_type": "markdown",
      "metadata": {
        "id": "F8FZuHKCfdpm",
        "colab_type": "text"
      },
      "source": [
        "Instantiate our model and plot the graph."
      ]
    },
    {
      "cell_type": "code",
      "metadata": {
        "id": "Z0XGVj7mu44i",
        "colab_type": "code",
        "colab": {
          "base_uri": "https://localhost:8080/",
          "height": 86
        },
        "outputId": "eefe7e05-c00d-4697-84d7-fa1b87fddfaf"
      },
      "source": [
        "model = mod_unet_efficientnet(OUTPUT_CHANNELS)"
      ],
      "execution_count": null,
      "outputs": [
        {
          "output_type": "stream",
          "text": [
            "0\n",
            "1\n",
            "2\n",
            "3\n"
          ],
          "name": "stdout"
        }
      ]
    },
    {
      "cell_type": "code",
      "metadata": {
        "id": "RyuSplv6nD6p",
        "colab_type": "code",
        "colab": {
          "base_uri": "https://localhost:8080/",
          "height": 607
        },
        "outputId": "afe2972c-85e7-4c5e-9b45-ffa0a89509aa"
      },
      "source": [
        "model.compile(optimizer=tf.keras.optimizers.Adam(learning_rate=LEARNING_RATE),\n",
        "              loss = tf.keras.losses.SparseCategoricalCrossentropy(from_logits=False), metrics=[meanIoU(2)])\n",
        "model.summary()"
      ],
      "execution_count": null,
      "outputs": [
        {
          "output_type": "stream",
          "text": [
            "Model: \"functional_39\"\n",
            "__________________________________________________________________________________________________\n",
            "Layer (type)                    Output Shape         Param #     Connected to                     \n",
            "==================================================================================================\n",
            "input_19 (InputLayer)           [(None, 224, 224, 3) 0                                            \n",
            "__________________________________________________________________________________________________\n",
            "functional_37 (Functional)      [(None, 112, 112, 64 23564800    input_19[0][0]                   \n",
            "__________________________________________________________________________________________________\n",
            "sequential_14 (Sequential)      (None, 14, 14, 1024) 18878464    functional_37[0][4]              \n",
            "__________________________________________________________________________________________________\n",
            "concatenate_52 (Concatenate)    (None, 14, 14, 2048) 0           sequential_14[0][0]              \n",
            "                                                                 functional_37[0][3]              \n",
            "__________________________________________________________________________________________________\n",
            "sequential_15 (Sequential)      (None, 28, 28, 512)  9439232     concatenate_52[0][0]             \n",
            "__________________________________________________________________________________________________\n",
            "concatenate_53 (Concatenate)    (None, 28, 28, 1024) 0           sequential_15[0][0]              \n",
            "                                                                 functional_37[0][2]              \n",
            "__________________________________________________________________________________________________\n",
            "sequential_16 (Sequential)      (None, 56, 56, 256)  2360320     concatenate_53[0][0]             \n",
            "__________________________________________________________________________________________________\n",
            "concatenate_54 (Concatenate)    (None, 56, 56, 512)  0           sequential_16[0][0]              \n",
            "                                                                 functional_37[0][1]              \n",
            "__________________________________________________________________________________________________\n",
            "sequential_17 (Sequential)      (None, 112, 112, 128 590336      concatenate_54[0][0]             \n",
            "__________________________________________________________________________________________________\n",
            "concatenate_55 (Concatenate)    (None, 112, 112, 192 0           sequential_17[0][0]              \n",
            "                                                                 functional_37[0][0]              \n",
            "__________________________________________________________________________________________________\n",
            "outMask (Conv2DTranspose)       (None, 224, 224, 2)  3458        concatenate_55[0][0]             \n",
            "==================================================================================================\n",
            "Total params: 54,836,610\n",
            "Trainable params: 3,458\n",
            "Non-trainable params: 54,833,152\n",
            "__________________________________________________________________________________________________\n"
          ],
          "name": "stdout"
        }
      ]
    },
    {
      "cell_type": "markdown",
      "metadata": {
        "id": "rSULSsBhvx5K",
        "colab_type": "text"
      },
      "source": [
        "##get mask inference methods"
      ]
    },
    {
      "cell_type": "code",
      "metadata": {
        "id": "hn6Ztm68v2p9",
        "colab_type": "code",
        "colab": {}
      },
      "source": [
        "def create_mask_from_inference(pred_mask):\n",
        "  pred_mask = tf.argmax(pred_mask, axis=-1)\n",
        "  pred_mask = pred_mask[..., tf.newaxis]\n",
        "  return pred_mask[0]"
      ],
      "execution_count": null,
      "outputs": []
    },
    {
      "cell_type": "code",
      "metadata": {
        "id": "5tGKHpj28zST",
        "colab_type": "code",
        "colab": {}
      },
      "source": [
        "def display(display_list):\n",
        "  plt.figure(figsize=(15, 15))\n",
        "\n",
        "  title = ['Input Image', 'True Mask', 'Predicted Mask']\n",
        "\n",
        "  for i in range(len(display_list)):\n",
        "    plt.subplot(1, len(display_list), i+1)\n",
        "    plt.title(title[i])\n",
        "    plt.imshow(tf.keras.preprocessing.image.array_to_img(display_list[i]))\n",
        "    plt.axis('off')\n",
        "  plt.show()\n"
      ],
      "execution_count": null,
      "outputs": []
    },
    {
      "cell_type": "code",
      "metadata": {
        "id": "Oif0plkAwODs",
        "colab_type": "code",
        "colab": {}
      },
      "source": [
        "def show_predictions(generator=None):\n",
        "  if generator is not None:\n",
        "    batch_x, batch_y = next(generator)\n",
        "    generator.reset_batch_index()\n",
        "    pred_mask = model.predict(batch_x)\n",
        "    for i in range(5):\n",
        "      display([batch_x[i], batch_y[i], create_mask_from_inference(pred_mask[i][tf.newaxis, ...])])\n",
        "  else:\n",
        "    display([sample_image, sample_mask,\n",
        "             create_mask_from_inference(model.predict(sample_image[tf.newaxis, ...]))])\n"
      ],
      "execution_count": null,
      "outputs": []
    },
    {
      "cell_type": "markdown",
      "metadata": {
        "id": "i4g1LME59Q2d",
        "colab_type": "text"
      },
      "source": [
        "##Show the network is working before training"
      ]
    },
    {
      "cell_type": "code",
      "metadata": {
        "id": "xb7BRkxi9P4y",
        "colab_type": "code",
        "colab": {
          "base_uri": "https://localhost:8080/",
          "height": 293
        },
        "outputId": "4ec54736-097d-4533-ba37-70e96a8a4993"
      },
      "source": [
        "#train_generator.on_epoch_end()\n",
        "batch_x, batch_y = next(train_generator)\n",
        "\n",
        "sample_image, sample_mask = batch_x[20], batch_y[20]\n",
        "show_predictions()"
      ],
      "execution_count": null,
      "outputs": [
        {
          "output_type": "display_data",
          "data": {
            "image/png": "[encoded data removed]",
            "text/plain": [
              "<Figure size 1080x1080 with 3 Axes>"
            ]
          },
          "metadata": {
            "tags": [],
            "needs_background": "light"
          }
        }
      ]
    },
    {
      "cell_type": "code",
      "metadata": {
        "id": "-6AhC8pw9f2r",
        "colab_type": "code",
        "colab": {
          "base_uri": "https://localhost:8080/",
          "height": 34
        },
        "outputId": "314b69a5-1386-4f3b-be49-6298875ccfbc"
      },
      "source": [
        "sample_mask[sample_mask==1]"
      ],
      "execution_count": null,
      "outputs": [
        {
          "output_type": "execute_result",
          "data": {
            "text/plain": [
              "array([], dtype=float32)"
            ]
          },
          "metadata": {
            "tags": []
          },
          "execution_count": 24
        }
      ]
    },
    {
      "cell_type": "code",
      "metadata": {
        "id": "8FwVEcs0QIYW",
        "colab_type": "code",
        "colab": {}
      },
      "source": [
        "pred = model(sample_image[tf.newaxis,...])"
      ],
      "execution_count": null,
      "outputs": []
    },
    {
      "cell_type": "code",
      "metadata": {
        "id": "UT9bYPOhcEqX",
        "colab_type": "code",
        "colab": {
          "base_uri": "https://localhost:8080/",
          "height": 34
        },
        "outputId": "b7e0f4f9-1fbf-49a5-88dc-6217a1534b5f"
      },
      "source": [
        "batch_y.shape"
      ],
      "execution_count": null,
      "outputs": [
        {
          "output_type": "execute_result",
          "data": {
            "text/plain": [
              "(100, 224, 224, 1)"
            ]
          },
          "metadata": {
            "tags": []
          },
          "execution_count": 26
        }
      ]
    },
    {
      "cell_type": "markdown",
      "metadata": {
        "id": "IYJm0eqBx67d",
        "colab_type": "text"
      },
      "source": [
        "##Training"
      ]
    },
    {
      "cell_type": "markdown",
      "metadata": {
        "id": "VlC5K9ceAvIG",
        "colab_type": "text"
      },
      "source": [
        "Do we have prior weights? You can skip this cell if you want."
      ]
    },
    {
      "cell_type": "code",
      "metadata": {
        "id": "agig-8ftA3u8",
        "colab_type": "code",
        "colab": {}
      },
      "source": [
        "if os.path.exists('/content/drive/My Drive/segmentation_net_weights_person26epochs.h5'):\n",
        "  model.load_weights('/content/drive/My Drive/segmentation_net_weights_person26epochs.h5')\n"
      ],
      "execution_count": null,
      "outputs": []
    },
    {
      "cell_type": "code",
      "metadata": {
        "id": "HS8tdISKFOUu",
        "colab_type": "code",
        "colab": {}
      },
      "source": [
        "checkpoint_filepath = '/content/drive/My Drive/tmp/checkpoint2'\n",
        "model_checkpoint_callback = tf.keras.callbacks.ModelCheckpoint(\n",
        "    filepath=checkpoint_filepath,\n",
        "    save_weights_only=True,\n",
        "    monitor='val_mean_io_u',\n",
        "    mode='max',\n",
        "    save_best_only=True)"
      ],
      "execution_count": null,
      "outputs": []
    },
    {
      "cell_type": "markdown",
      "metadata": {
        "id": "wMH7kB91CBL9",
        "colab_type": "text"
      },
      "source": [
        "Train the model "
      ]
    },
    {
      "cell_type": "code",
      "metadata": {
        "id": "kQY8zBzFWWfp",
        "colab_type": "code",
        "colab": {
          "base_uri": "https://localhost:8080/",
          "height": 527
        },
        "outputId": "d03eb874-68e3-4680-efae-3660d72dcbb2"
      },
      "source": [
        "model_history = model.fit(x=train_generator, \n",
        "                epochs=10,\n",
        "                validation_data=test_generator,\n",
        "                verbose=1,\n",
        "                callbacks=[model_checkpoint_callback])"
      ],
      "execution_count": null,
      "outputs": [
        {
          "output_type": "stream",
          "text": [
            "Epoch 1/10\n",
            "31/31 [==============================] - ETA: 0s - loss: 2.3713 - mean_io_u_13: 0.4857 WARNING:tensorflow:Can save best model only with val_mean_io_u available, skipping.\n",
            "31/31 [==============================] - 870s 28s/step - loss: 2.3713 - mean_io_u_13: 0.4857 - val_loss: 1.8680 - val_mean_io_u_13: 0.4827\n",
            "Epoch 2/10\n",
            "31/31 [==============================] - ETA: 0s - loss: 1.7425 - mean_io_u_13: 0.4860 WARNING:tensorflow:Can save best model only with val_mean_io_u available, skipping.\n",
            "31/31 [==============================] - 844s 27s/step - loss: 1.7425 - mean_io_u_13: 0.4860 - val_loss: 1.3375 - val_mean_io_u_13: 0.4847\n",
            "Epoch 3/10\n",
            "31/31 [==============================] - ETA: 0s - loss: 1.2453 - mean_io_u_13: 0.4877 WARNING:tensorflow:Can save best model only with val_mean_io_u available, skipping.\n",
            "31/31 [==============================] - 833s 27s/step - loss: 1.2453 - mean_io_u_13: 0.4877 - val_loss: 0.9829 - val_mean_io_u_13: 0.4857\n",
            "Epoch 4/10\n",
            "31/31 [==============================] - ETA: 0s - loss: 0.9514 - mean_io_u_13: 0.4883 WARNING:tensorflow:Can save best model only with val_mean_io_u available, skipping.\n",
            "31/31 [==============================] - 832s 27s/step - loss: 0.9514 - mean_io_u_13: 0.4883 - val_loss: 0.8263 - val_mean_io_u_13: 0.4857\n",
            "Epoch 5/10\n",
            "31/31 [==============================] - ETA: 0s - loss: 0.8069 - mean_io_u_13: 0.4879 WARNING:tensorflow:Can save best model only with val_mean_io_u available, skipping.\n",
            "31/31 [==============================] - 835s 27s/step - loss: 0.8069 - mean_io_u_13: 0.4879 - val_loss: 0.7344 - val_mean_io_u_13: 0.4852\n",
            "Epoch 6/10\n",
            "31/31 [==============================] - ETA: 0s - loss: 0.7382 - mean_io_u_13: 0.4877 WARNING:tensorflow:Can save best model only with val_mean_io_u available, skipping.\n",
            "31/31 [==============================] - 828s 27s/step - loss: 0.7382 - mean_io_u_13: 0.4877 - val_loss: 0.7003 - val_mean_io_u_13: 0.4849\n",
            "Epoch 7/10\n",
            "31/31 [==============================] - ETA: 0s - loss: 0.7021 - mean_io_u_13: 0.4871 WARNING:tensorflow:Can save best model only with val_mean_io_u available, skipping.\n",
            "31/31 [==============================] - 830s 27s/step - loss: 0.7021 - mean_io_u_13: 0.4871 - val_loss: 0.6722 - val_mean_io_u_13: 0.4844\n",
            "Epoch 8/10\n",
            "31/31 [==============================] - ETA: 0s - loss: 0.6775 - mean_io_u_13: 0.4859 WARNING:tensorflow:Can save best model only with val_mean_io_u available, skipping.\n",
            "31/31 [==============================] - 826s 27s/step - loss: 0.6775 - mean_io_u_13: 0.4859 - val_loss: 0.6577 - val_mean_io_u_13: 0.4834\n",
            "Epoch 9/10\n",
            "31/31 [==============================] - ETA: 0s - loss: 0.6643 - mean_io_u_13: 0.4855 WARNING:tensorflow:Can save best model only with val_mean_io_u available, skipping.\n",
            "31/31 [==============================] - 827s 27s/step - loss: 0.6643 - mean_io_u_13: 0.4855 - val_loss: 0.6489 - val_mean_io_u_13: 0.4831\n",
            "Epoch 10/10\n",
            "31/31 [==============================] - ETA: 0s - loss: 0.6557 - mean_io_u_13: 0.4845 WARNING:tensorflow:Can save best model only with val_mean_io_u available, skipping.\n",
            "31/31 [==============================] - 827s 27s/step - loss: 0.6557 - mean_io_u_13: 0.4845 - val_loss: 0.6373 - val_mean_io_u_13: 0.4816\n"
          ],
          "name": "stdout"
        }
      ]
    },
    {
      "cell_type": "markdown",
      "metadata": {
        "id": "I2JyMv_0zsWy",
        "colab_type": "text"
      },
      "source": [
        "Display training metrics"
      ]
    },
    {
      "cell_type": "code",
      "metadata": {
        "colab_type": "code",
        "id": "T0x1gPpC9gIm",
        "colab": {}
      },
      "source": [
        "def plot_metrics(model_history):\n",
        "\n",
        "  loss = model_history.history['loss']\n",
        "  val_loss = model_history.history['val_loss']\n",
        "\n",
        "  iou = model_history.history['mean_io_u']\n",
        "  val_iou = model_history.history['val_mean_io_u']\n",
        "  epochs = range(EPOCHS)\n",
        "  fig, axs = plt.subplots(2)\n",
        "\n",
        "  axs[0].plot(epochs, loss, 'r', label='Training loss')\n",
        "  axs[0].plot(epochs, val_loss, 'bo', label='Validation loss')\n",
        "  axs[0].title('Training and Validation Loss')\n",
        "  axs[0].xlabel('Epoch')\n",
        "  axs[0].ylabel('Loss Value')\n",
        "  axs[1].plot(epochs, iou, 'r', label='Training iou')\n",
        "  axs[1].plot(epochs, val_iou, 'bo', label='Validation iou')\n",
        "  axs[1].title('Training and Validation iou')\n",
        "  axs[1].xlabel('Epoch')\n",
        "  axs[1].ylabel('iou Value')\n",
        "  plt.legend()\n",
        "  plt.show()\n",
        "\n"
      ],
      "execution_count": null,
      "outputs": []
    },
    {
      "cell_type": "code",
      "metadata": {
        "id": "xNi8HfVrpvFg",
        "colab_type": "code",
        "colab": {}
      },
      "source": [
        "plot_metrics(model_history)"
      ],
      "execution_count": null,
      "outputs": []
    },
    {
      "cell_type": "markdown",
      "metadata": {
        "id": "7m3ng6Vksb1l",
        "colab_type": "text"
      },
      "source": [
        "##Save Model"
      ]
    },
    {
      "cell_type": "markdown",
      "metadata": {
        "id": "-Xm8Rx0PgE5O",
        "colab_type": "text"
      },
      "source": [
        "Save weights after training and network architechture"
      ]
    },
    {
      "cell_type": "code",
      "metadata": {
        "id": "lEAtBVhEseS2",
        "colab_type": "code",
        "colab": {}
      },
      "source": [
        "json_config = model.to_json()\n",
        "with open('model_config.json', 'w') as json_file:\n",
        "    json_file.write(json_config)\n",
        "model.save_weights('drive/My Drive/segmentation_net_weights_sculptures.h5')\n"
      ],
      "execution_count": null,
      "outputs": []
    }
  ]
}