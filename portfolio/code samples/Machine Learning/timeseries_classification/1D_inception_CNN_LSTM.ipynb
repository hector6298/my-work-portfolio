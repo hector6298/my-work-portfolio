{
  "nbformat": 4,
  "nbformat_minor": 2,
  "metadata": {
    "colab": {
      "name": "1D inception CNN_LSTM",
      "provenance": [],
      "collapsed_sections": [],
      "authorship_tag": "ABX9TyPcOmSHykGXQTXhmm3NOFAf",
      "include_colab_link": true
    },
    "kernelspec": {
      "name": "python3",
      "display_name": "Python 3"
    }
  },
  "cells": [
    {
      "cell_type": "markdown",
      "source": [
        "<a href=\"https://colab.research.google.com/github/hector6298/Deep-Learning-Collab-notebooks/blob/master/1D_inception_CNN_LSTM.ipynb\" target=\"_parent\"><img src=\"https://colab.research.google.com/assets/colab-badge.svg\" alt=\"Open In Colab\"/></a>"
      ],
      "metadata": {
        "id": "view-in-github",
        "colab_type": "text"
      }
    },
    {
      "cell_type": "markdown",
      "source": [
        "## Inception 1D"
      ],
      "metadata": {
        "id": "kI9zXip9p_id",
        "colab_type": "text"
      }
    },
    {
      "cell_type": "code",
      "execution_count": 47,
      "source": [
        "import tensorflow as tf\r\n",
        "from tensorflow.keras.layers import Layer, Conv1D, MaxPool1D, Concatenate, BatchNormalization, AveragePooling1D, Input, LSTM, Flatten, Add\r\n",
        "from tensorflow.keras import activations, Model\r\n",
        "\r\n",
        "import matplotlib.pyplot as plt\r\n",
        "import numpy as np"
      ],
      "outputs": [],
      "metadata": {
        "id": "kuQkiowsqCMY",
        "colab_type": "code",
        "colab": {}
      }
    },
    {
      "cell_type": "code",
      "execution_count": 48,
      "source": [
        "class Conv1D_bn(Layer):\r\n",
        "  def __init__(self, \r\n",
        "               filters, \r\n",
        "               kernel_size, \r\n",
        "               strides, \r\n",
        "               padding='causal', \r\n",
        "               activation='relu', \r\n",
        "               use_bias=False,\r\n",
        "               name=None):\r\n",
        "    super().__init__()\r\n",
        "    self.conv = Conv1D(filters=filters,  \r\n",
        "                        kernel_size=kernel_size,\r\n",
        "                        strides=strides,\r\n",
        "                        activation=activation,\r\n",
        "                        padding=padding,\r\n",
        "                       use_bias=use_bias,\r\n",
        "                       name=name)\r\n",
        "    self.batchNormalization = BatchNormalization()\r\n",
        "    self.activation = activations.get(activation)\r\n",
        "  \r\n",
        "  def call(self, inputs):\r\n",
        "    x = self.conv(inputs)\r\n",
        "    x = self.batchNormalization(x)\r\n",
        "    if self.activation is not None:\r\n",
        "      x = self.activation(x)\r\n",
        "    return x"
      ],
      "outputs": [],
      "metadata": {
        "id": "WQjQFJC25IgC",
        "colab_type": "code",
        "colab": {}
      }
    },
    {
      "cell_type": "code",
      "execution_count": 49,
      "source": [
        "class StemModule(Layer):\r\n",
        "  def __init__(self, num_filters=32, kernel_sizes=[10,20,40],activation='relu', **kwargs):\r\n",
        "    super().__init__(**kwargs)\r\n",
        "    self.num_filters = num_filters\r\n",
        "    self.kernel_size = kernel_sizes\r\n",
        "    self.activation = activations.get(activation)\r\n",
        "\r\n",
        "    self.conv1_1 = Conv1D_bn(filters=self.num_filters,  # 228 --> 114\r\n",
        "                        kernel_size=self.kernel_size[0],\r\n",
        "                        strides=1,\r\n",
        "                        activation=self.activation,\r\n",
        "                        padding='causal')\r\n",
        "    self.conv1_2 = Conv1D_bn(filters=self.num_filters,\r\n",
        "                        kernel_size=self.kernel_size[0],\r\n",
        "                        strides=1,\r\n",
        "                        activation=self.activation,\r\n",
        "                        padding='causal')\r\n",
        "    self.conv1_3 = Conv1D_bn(filters=self.num_filters,\r\n",
        "                        kernel_size=self.kernel_size[0],\r\n",
        "                        strides=1,\r\n",
        "                        activation=self.activation,\r\n",
        "                        padding='causal')\r\n",
        "    self.conv1_4 = Conv1D_bn(filters=self.num_filters,  # 228 --> 114\r\n",
        "                        kernel_size=self.kernel_size[0],\r\n",
        "                        strides=2,\r\n",
        "                        activation=self.activation,\r\n",
        "                        padding='causal')\r\n",
        "    self.pool1 = MaxPool1D(pool_size=3,strides=2, padding='same') # 114 --> 57\r\n",
        "    \r\n",
        "\r\n",
        "    self.conv2_1x1 = Conv1D_bn(filters=self.num_filters*2, # 114 --> 57\r\n",
        "                        kernel_size=1,\r\n",
        "                        strides=1,\r\n",
        "                        activation=self.activation,\r\n",
        "                        padding='causal')\r\n",
        "    self.conv3 = Conv1D_bn(filters=self.num_filters*2, \r\n",
        "                        kernel_size=self.kernel_size[2],\r\n",
        "                        strides=1,\r\n",
        "                        activation=self.activation,\r\n",
        "                        padding='causal')\r\n",
        "    \r\n",
        "    self.conv4 = Conv1D_bn(filters=self.num_filters*2,  # 228 --> 114\r\n",
        "                        kernel_size=self.kernel_size[0],\r\n",
        "                        strides=2,\r\n",
        "                        activation=self.activation,\r\n",
        "                        padding='causal')\r\n",
        "    self.pool2 = MaxPool1D(pool_size=3,strides=2, padding='same')\r\n",
        "    \r\n",
        "\r\n",
        "    \r\n",
        "  def call(self, inputs):\r\n",
        "    x = self.conv1_1(inputs)\r\n",
        "    x = self.conv1_2(x)\r\n",
        "    x = self.conv1_3(x)\r\n",
        "\r\n",
        "    b1 = self.conv1_4(x)\r\n",
        "    b2 = self.pool1(x)\r\n",
        "    concat1 = Concatenate()([b1,b2])\r\n",
        "    concat1 = self.activation(concat1)\r\n",
        "\r\n",
        "    x = self.conv2_1x1(concat1)\r\n",
        "    x = self.conv3(x)\r\n",
        "\r\n",
        "    b1 = self.conv4(x)\r\n",
        "    b2 = self.pool2(x)\r\n",
        "    concat2 = Concatenate()([b1,b2])\r\n",
        "    concat2 = self.activation(concat1)\r\n",
        "\r\n",
        "    return concat2\r\n",
        "    "
      ],
      "outputs": [],
      "metadata": {
        "id": "TchKAIMWfqIS",
        "colab_type": "code",
        "colab": {}
      }
    },
    {
      "cell_type": "code",
      "execution_count": 50,
      "source": [
        "class InceptionModule(Layer):\r\n",
        "  def __init__(self, num_filters=32, activation='relu', **kwargs):\r\n",
        "    super().__init__(**kwargs)\r\n",
        "    self.num_filters = num_filters\r\n",
        "    self.activation = activations.get(activation)\r\n",
        "\r\n",
        "    self.conv1 = Conv1D_bn(filters=self.num_filters//3, \r\n",
        "                        kernel_size=11,\r\n",
        "                        strides=1,\r\n",
        "                        activation=self.activation,\r\n",
        "                        padding='causal')\r\n",
        "    \r\n",
        "    self.conv2 = Conv1D_bn(filters=self.num_filters//3, \r\n",
        "                        kernel_size=21,\r\n",
        "                        strides=1,\r\n",
        "                        activation=self.activation,\r\n",
        "                        padding='causal')\r\n",
        "  \r\n",
        "    #factored convolution\r\n",
        "    self.conv3_1 = Conv1D_bn(filters=self.num_filters//3, \r\n",
        "                        kernel_size=21,\r\n",
        "                        strides=1,\r\n",
        "                        activation=self.activation,\r\n",
        "                        padding='causal')\r\n",
        "    self.conv3_2 = Conv1D_bn(filters=self.num_filters//3, \r\n",
        "                        kernel_size=11,\r\n",
        "                        strides=1,\r\n",
        "                        activation=self.activation,\r\n",
        "                        padding='causal')\r\n",
        "    self.conv3_3 = Conv1D_bn(filters=self.num_filters//3, \r\n",
        "                        kernel_size=11,\r\n",
        "                        strides=1,\r\n",
        "                        activation=self.activation,\r\n",
        "                        padding='causal')\r\n",
        "   \r\n",
        "    #self.pool = AveragePooling1D(pool_size=3,strides=1, padding='same')\r\n",
        "    self.bottleneck = Conv1D_bn(filters=self.num_filters, strides=1, kernel_size=1, use_bias=False, padding='causal')\r\n",
        "\r\n",
        "  def call(self,inputs):\r\n",
        "    x = self.bottleneck(inputs)\r\n",
        "    #x_pool = self.pool(inputs)\r\n",
        "    c1 = self.conv1(x)\r\n",
        "    c2 = self.conv2(x)\r\n",
        "    c3_1 = self.conv3_1(x)\r\n",
        "    c3_2 = self.conv3_2(c3_1)\r\n",
        "    c3_3 = self.conv3_3(c3_2)\r\n",
        "    #c4 = self.bottleneck(x_pool)\r\n",
        "    concat = Concatenate()([c1,c2,c3_3])\r\n",
        "    return self.activation(concat)\r\n"
      ],
      "outputs": [],
      "metadata": {
        "id": "4jq5ME_AqmCC",
        "colab_type": "code",
        "colab": {}
      }
    },
    {
      "cell_type": "code",
      "execution_count": 51,
      "source": [
        "class reductionModule(Layer):\r\n",
        "  def __init__(self, num_filters, activation='relu', **kwargs):\r\n",
        "    super().__init__(**kwargs)\r\n",
        "    self.num_filters = num_filters\r\n",
        "    self.activation = activations.get(activation)\r\n",
        "\r\n",
        "    self.bottleneck = Conv1D_bn(filters=self.num_filters, strides=1, kernel_size=1, use_bias=False, activation=activation, padding='causal')\r\n",
        "    self.pool = MaxPool1D(pool_size=3, strides=2, padding='same')\r\n",
        "\r\n",
        "    self.conv1 = Conv1D_bn(filters=self.num_filters//2, kernel_size=11, strides=2, activation=activation, padding='causal')\r\n",
        "    self.conv2 = Conv1D_bn(filters=self.num_filters//2, kernel_size=21, strides=2, activation=activation, padding='causal')\r\n",
        "  \r\n",
        "  def call(self, inputs):\r\n",
        "    x = self.bottleneck(inputs)\r\n",
        "  \r\n",
        "    x_pool = self.pool(inputs)\r\n",
        "    x1 = self.conv1(x)\r\n",
        "    x2 = self.conv2(x)\r\n",
        "    concat = Concatenate()([x1,x2,x_pool])\r\n",
        "    out = self.activation(concat)\r\n",
        "    return out\r\n",
        "    \r\n"
      ],
      "outputs": [],
      "metadata": {
        "id": "daU4-uh8xUwd",
        "colab_type": "code",
        "colab": {}
      }
    },
    {
      "cell_type": "code",
      "execution_count": 52,
      "source": [
        "class skip_connection_inception(Layer):\r\n",
        "  def __init__(self,out_tensor, activation='relu'):\r\n",
        "    super().__init__()\r\n",
        "    self.activation = activations.get(activation)\r\n",
        "    self.bn = BatchNormalization()\r\n",
        "    self.conv = Conv1D_bn(filters=int(out_tensor.shape[-1]), \r\n",
        "                         kernel_size=1, \r\n",
        "                         strides=1,\r\n",
        "                         padding='causal',\r\n",
        "                         use_bias=False)\r\n",
        "  def call(self, input_tensor, out_tensor):\r\n",
        "    shortcut = self.conv(input_tensor)\r\n",
        "    shortcut = self.bn(shortcut)\r\n",
        "    out = Add()([shortcut, out_tensor])\r\n",
        "    return self.activation(out)\r\n"
      ],
      "outputs": [],
      "metadata": {
        "id": "doRs4BMIqXUI",
        "colab_type": "code",
        "colab": {}
      }
    },
    {
      "cell_type": "code",
      "execution_count": 53,
      "source": [
        "class skip_connection_stem(Layer):\r\n",
        "  def __init(self,activation='relu', equal_filters=True):\r\n",
        "    super().__init__()\r\n",
        "    self.activation = activations.get(activation)\r\n",
        "    self.equal_fitlers = equal_filters\r\n",
        "  def call(self, input_tensor, out_tensor):\r\n",
        "    \r\n",
        "    if self.equal_filters:\r\n",
        "      input_tensor = Conv1D_bn(filters=int(out_tensor.shape[-1]), \r\n",
        "                          kernel_size=1, \r\n",
        "                          padding='causal', \r\n",
        "                          use_bias=False)(input_tensor)\r\n",
        "    shortcut = MaxPooling1D(pool_size=3,\r\n",
        "                            strides=2,\r\n",
        "                            padding='same')(input_tensor)\r\n",
        "    shortcut = batchNormalization()(shortcut)\r\n",
        "    out = Add()([shortcut, out_tensor])\r\n",
        "    return self.activation(out)"
      ],
      "outputs": [],
      "metadata": {
        "id": "4MQivOm_hQif",
        "colab_type": "code",
        "colab": {}
      }
    },
    {
      "cell_type": "code",
      "execution_count": 65,
      "source": [
        "def construct_timeception(input_shape):\r\n",
        "\r\n",
        "  ############################# INPUT ########################\r\n",
        "  inputs = Input(shape=input_shape)\r\n",
        "  ######################## STEM ##############################\r\n",
        "  stem = StemModule(num_filters=8,\r\n",
        "                    activation='swish')(inputs)\r\n",
        "  ######################## BLOCK 1 ###########################\r\n",
        "  inceptionb1_1 = InceptionModule(num_filters=stem.shape[-1],\r\n",
        "                               activation='swish')(stem)\r\n",
        "  inceptionb1_2 = InceptionModule(num_filters=stem.shape[-1],\r\n",
        "                               activation='swish')(inceptionb1_1)\r\n",
        "  inceptionb1_3 = InceptionModule(num_filters=stem.shape[-1],\r\n",
        "                               activation='swish')(inceptionb1_2)\r\n",
        "  residual1 = skip_connection_inception(inceptionb1_3, activation='swish')(stem,inceptionb1_3)\r\n",
        "\r\n",
        "  reduction1 = reductionModule(num_filters=residual1.shape[-1],\r\n",
        "                               activation='swish')(residual1)\r\n",
        "  #rnn1 = LSTM(reduction1.shape[-1], return_sequences=True)(reduction1)\r\n",
        "  ######################## BLOCK 2 ###########################\r\n",
        "  inceptionb2_1 = InceptionModule(num_filters=reduction1.shape[-1],\r\n",
        "                               activation='swish')(reduction1)\r\n",
        "  inceptionb2_2 = InceptionModule(num_filters=reduction1.shape[-1],\r\n",
        "                               activation='swish')(inceptionb2_1)\r\n",
        "  inceptionb2_3 = InceptionModule(num_filters=reduction1.shape[-1],\r\n",
        "                               activation='swish')(inceptionb2_2)\r\n",
        "  residual2 = skip_connection_inception(inceptionb2_3, activation='swish')(reduction1,inceptionb2_3)\r\n",
        "\r\n",
        "  reduction2 = reductionModule(num_filters=residual2.shape[-1],\r\n",
        "                               activation='swish')(residual2)\r\n",
        "  #rnn2 = LSTM(reduction2.shape[-1], return_sequences=True)(reduction2)\r\n",
        "  ######################## BLOCK 3 ###########################\r\n",
        "  inceptionb3_1 = InceptionModule(num_filters=reduction1.shape[-1],\r\n",
        "                               activation='swish')(reduction2)\r\n",
        "  inceptionb3_2 = InceptionModule(num_filters=reduction2.shape[-1],\r\n",
        "                               activation='swish')(inceptionb3_1)\r\n",
        "  inceptionb3_3 = InceptionModule(num_filters=reduction2.shape[-1],\r\n",
        "                               activation='swish')(inceptionb3_2)\r\n",
        "  residual3 = skip_connection_inception(inceptionb3_3, activation='swish')(reduction2,inceptionb3_3)\r\n",
        "\r\n",
        "  reduction3 = reductionModule(num_filters=residual3.shape[-1],\r\n",
        "                               activation='swish')(residual3)\r\n",
        "  \r\n",
        "  rnn3 = LSTM(10, return_sequences=True)(reduction3)\r\n",
        "  out = LSTM(1, return_sequences=False)(rnn3)\r\n",
        "  \r\n",
        "  return Model(inputs=inputs, outputs=out)\r\n",
        "  \r\n",
        "  "
      ],
      "outputs": [],
      "metadata": {
        "id": "dZmvZF7HKbsx",
        "colab_type": "code",
        "colab": {}
      }
    },
    {
      "cell_type": "code",
      "execution_count": 66,
      "source": [
        "model = construct_timeception(input_shape=(224,1))\r\n",
        "model.compile(optimizer='adam', loss='mse')"
      ],
      "outputs": [],
      "metadata": {
        "id": "_HaQioe_ZJ81",
        "colab_type": "code",
        "colab": {}
      }
    },
    {
      "cell_type": "code",
      "execution_count": 74,
      "source": [
        "model.summary()"
      ],
      "outputs": [
        {
          "output_type": "stream",
          "name": "stdout",
          "text": [
            "Model: \"functional_3\"\n",
            "__________________________________________________________________________________________________\n",
            "Layer (type)                    Output Shape         Param #     Connected to                     \n",
            "==================================================================================================\n",
            "input_18 (InputLayer)           [(None, 224, 1)]     0                                            \n",
            "__________________________________________________________________________________________________\n",
            "stem_module_17 (StemModule)     (None, 112, 16)      15376       input_18[0][0]                   \n",
            "__________________________________________________________________________________________________\n",
            "inception_module_49 (InceptionM (None, 112, 15)      5210        stem_module_17[0][0]             \n",
            "__________________________________________________________________________________________________\n",
            "inception_module_50 (InceptionM (None, 112, 15)      5194        inception_module_49[0][0]        \n",
            "__________________________________________________________________________________________________\n",
            "inception_module_51 (InceptionM (None, 112, 15)      5194        inception_module_50[0][0]        \n",
            "__________________________________________________________________________________________________\n",
            "skip_connection_inception_14 (s (None, 112, 15)      360         stem_module_17[0][0]             \n",
            "                                                                 inception_module_51[0][0]        \n",
            "__________________________________________________________________________________________________\n",
            "reduction_module_9 (reductionMo (None, 56, 29)       3701        skip_connection_inception_14[0][0\n",
            "__________________________________________________________________________________________________\n",
            "inception_module_52 (InceptionM (None, 56, 27)       16752       reduction_module_9[0][0]         \n",
            "__________________________________________________________________________________________________\n",
            "inception_module_53 (InceptionM (None, 56, 27)       16694       inception_module_52[0][0]        \n",
            "__________________________________________________________________________________________________\n",
            "inception_module_54 (InceptionM (None, 56, 27)       16694       inception_module_53[0][0]        \n",
            "__________________________________________________________________________________________________\n",
            "skip_connection_inception_15 (s (None, 56, 27)       999         reduction_module_9[0][0]         \n",
            "                                                                 inception_module_54[0][0]        \n",
            "__________________________________________________________________________________________________\n",
            "reduction_module_10 (reductionM (None, 28, 53)       12173       skip_connection_inception_15[0][0\n",
            "__________________________________________________________________________________________________\n",
            "inception_module_55 (InceptionM (None, 28, 27)       17448       reduction_module_10[0][0]        \n",
            "__________________________________________________________________________________________________\n",
            "inception_module_56 (InceptionM (None, 28, 51)       56094       inception_module_55[0][0]        \n",
            "__________________________________________________________________________________________________\n",
            "inception_module_57 (InceptionM (None, 28, 51)       57366       inception_module_56[0][0]        \n",
            "__________________________________________________________________________________________________\n",
            "skip_connection_inception_16 (s (None, 28, 51)       3111        reduction_module_10[0][0]        \n",
            "                                                                 inception_module_57[0][0]        \n",
            "__________________________________________________________________________________________________\n",
            "reduction_module_11 (reductionM (None, 14, 101)      43805       skip_connection_inception_16[0][0\n",
            "__________________________________________________________________________________________________\n",
            "lstm_4 (LSTM)                   (None, 14, 10)       4480        reduction_module_11[0][0]        \n",
            "__________________________________________________________________________________________________\n",
            "lstm_5 (LSTM)                   (None, 1)            48          lstm_4[0][0]                     \n",
            "==================================================================================================\n",
            "Total params: 280,699\n",
            "Trainable params: 278,411\n",
            "Non-trainable params: 2,288\n",
            "__________________________________________________________________________________________________\n"
          ]
        }
      ],
      "metadata": {
        "id": "QZAnq_fwWK3t",
        "colab_type": "code",
        "colab": {
          "base_uri": "https://localhost:8080/",
          "height": 868
        },
        "outputId": "97edafa5-2c53-4df4-eb75-fcd95d72430e"
      }
    },
    {
      "cell_type": "code",
      "execution_count": 70,
      "source": [
        "def train_function(x):\r\n",
        "    return np.sin(x)\r\n",
        "def split_sequence(sequence, n_steps):\r\n",
        "        X, y = list(), list()\r\n",
        "        for i in range(len(sequence)):\r\n",
        "                end_ix = i + n_steps\r\n",
        "                if end_ix > len(sequence)-1:\r\n",
        "                        break\r\n",
        "                seq_x, seq_y = sequence[i:end_ix], sequence[end_ix]\r\n",
        "                X.append(seq_x)\r\n",
        "                y.append(seq_y)\r\n",
        "        return np.array(X), np.array(y)\r\n",
        "# define input sequence\r\n",
        "xaxis = np.arange(-50*np.pi, 50*np.pi, 0.1)\r\n",
        "train_seq = train_function(xaxis)\r\n",
        "n_steps = 224\r\n",
        "X, y = split_sequence(train_seq, n_steps)\r\n",
        "# reshape from [samples, timesteps] into [samples, timesteps, features]\r\n",
        "n_features = 1\r\n",
        "X = X.reshape((X.shape[0], X.shape[1], n_features))\r\n",
        "print(\"X.shape = {}\".format(X.shape))\r\n",
        "print(\"y.shape = {}\".format(y.shape))"
      ],
      "outputs": [
        {
          "output_type": "stream",
          "name": "stdout",
          "text": [
            "X.shape = (2918, 224, 1)\n",
            "y.shape = (2918,)\n"
          ]
        }
      ],
      "metadata": {
        "id": "cqkbYAYNZZQ9",
        "colab_type": "code",
        "colab": {
          "base_uri": "https://localhost:8080/",
          "height": 52
        },
        "outputId": "a6bbdc11-d173-4837-9172-3f381f6b0520"
      }
    },
    {
      "cell_type": "code",
      "execution_count": null,
      "source": [
        "history = model.fit(X, y, epochs=20, verbose=1)\r\n",
        "plt.plot(history.history['loss'], label=\"loss\")\r\n",
        "plt.legend(loc=\"upper right\")\r\n",
        "plt.show()"
      ],
      "outputs": [],
      "metadata": {
        "id": "6Z4hctV3ZwAm",
        "colab_type": "code",
        "colab": {}
      }
    },
    {
      "cell_type": "code",
      "execution_count": 73,
      "source": [
        "test_xaxis = np.arange(0, 10*np.pi, 0.1)\r\n",
        "def test_function(x):\r\n",
        "    return np.cos(x)\r\n",
        "calc_y = test_function(test_xaxis)\r\n",
        "# start with initial n values, rest will be predicted\r\n",
        "test_y = calc_y[:n_steps]\r\n",
        "results = []\r\n",
        "for i in range( len(test_xaxis) - n_steps ):\r\n",
        "    net_input = test_y[i : i + n_steps]\r\n",
        "    net_input = net_input.reshape((1, n_steps, n_features))\r\n",
        "    y = model.predict(net_input, verbose=0)\r\n",
        "    test_y = np.append(test_y, y)\r\n",
        "plt.plot(test_xaxis[n_steps:], test_y[n_steps:], label=\"predicitons\")\r\n",
        "#plt.plot(test_xaxis, calc_y, label=\"ground truth\")\r\n",
        "plt.plot(test_xaxis[:n_steps], test_y[:n_steps], label=\"initial sequence\", color=\"red\")\r\n",
        "plt.legend(loc='upper left')\r\n",
        "plt.ylim(-2, 2)\r\n",
        "plt.show()"
      ],
      "outputs": [
        {
          "output_type": "display_data",
          "data": {
            "text/plain": [
              "<Figure size 432x288 with 1 Axes>"
            ],
            "image/png": "[encoded data removed]"
          },
          "metadata": {
            "tags": [],
            "needs_background": "light"
          }
        }
      ],
      "metadata": {
        "id": "b0Afl9ENZy7y",
        "colab_type": "code",
        "colab": {
          "base_uri": "https://localhost:8080/",
          "height": 269
        },
        "outputId": "eefcb1df-b779-4538-cc14-a1e2f3003fe5"
      }
    }
  ]
}