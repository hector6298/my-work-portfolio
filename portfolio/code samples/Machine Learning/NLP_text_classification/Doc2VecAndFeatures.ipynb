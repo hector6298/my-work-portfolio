{
  "nbformat": 4,
  "nbformat_minor": 0,
  "metadata": {
    "colab": {
      "name": "feature_extraction_notebook.ipynb",
      "provenance": []
    },
    "kernelspec": {
      "name": "python3",
      "display_name": "Python 3"
    },
    "language_info": {
      "name": "python"
    }
  },
  "cells": [
    {
      "cell_type": "code",
      "metadata": {
        "colab": {
          "base_uri": "https://localhost:8080/"
        },
        "id": "rU11p-dxtG9D",
        "outputId": "492a374f-f9b4-435a-99bd-3525f2a995e4"
      },
      "source": [
        "from google.colab import drive\n",
        "drive.mount('/content/drive')"
      ],
      "execution_count": 4,
      "outputs": [
        {
          "output_type": "stream",
          "name": "stdout",
          "text": [
            "Mounted at /content/drive\n"
          ]
        }
      ]
    },
    {
      "cell_type": "markdown",
      "metadata": {
        "id": "qbFJqa-stOQz"
      },
      "source": [
        "## Install and import required libraries"
      ]
    },
    {
      "cell_type": "code",
      "metadata": {
        "id": "aJJZbh5DiqDk"
      },
      "source": [
        "!pip install -q datasketch\n",
        "!pip install -q --upgrade gensim\n",
        "!cp \"/content/drive/MyDrive/multivariante/featurize.py\" ."
      ],
      "execution_count": 5,
      "outputs": []
    },
    {
      "cell_type": "code",
      "metadata": {
        "colab": {
          "base_uri": "https://localhost:8080/"
        },
        "id": "AvKQNrBnRztW",
        "outputId": "d562338b-235d-4cfe-c01c-101cabc53a1c"
      },
      "source": [
        "import numpy as np\n",
        "import pandas as pd\n",
        "import matplotlib.pyplot as plt\n",
        "from featurize import text_featurize\n",
        "\n",
        "import nltk\n",
        "nltk.download('punkt')\n",
        "nltk.download('averaged_perceptron_tagger')\n",
        "\n",
        "#/content/drive/MyDrive/multivariante/raw/fakeNews.csv\n",
        "#/content/drive/MyDrive/multivariante/raw/trueNews.csv"
      ],
      "execution_count": 6,
      "outputs": [
        {
          "output_type": "stream",
          "name": "stdout",
          "text": [
            "[nltk_data] Downloading package punkt to /root/nltk_data...\n",
            "[nltk_data]   Unzipping tokenizers/punkt.zip.\n",
            "[nltk_data] Downloading package averaged_perceptron_tagger to\n",
            "[nltk_data]     /root/nltk_data...\n",
            "[nltk_data]   Unzipping taggers/averaged_perceptron_tagger.zip.\n"
          ]
        },
        {
          "output_type": "execute_result",
          "data": {
            "text/plain": [
              "True"
            ]
          },
          "metadata": {},
          "execution_count": 6
        }
      ]
    },
    {
      "cell_type": "markdown",
      "metadata": {
        "id": "gBb3Jn8mtVdV"
      },
      "source": [
        "## Read Truthful news"
      ]
    },
    {
      "cell_type": "code",
      "metadata": {
        "colab": {
          "base_uri": "https://localhost:8080/",
          "height": 204
        },
        "id": "S7B7UUTraKsh",
        "outputId": "91a6b17e-fcf8-4569-f943-53eef49c8a50"
      },
      "source": [
        "truthful = pd.read_csv(\"/content/drive/MyDrive/multivariante/raw/trueNews.csv\")[[\"Date Posted\", \"Text\", \"Region\", \"Label\"]]\n",
        "truthful.head()\n"
      ],
      "execution_count": 7,
      "outputs": [
        {
          "output_type": "execute_result",
          "data": {
            "text/html": [
              "<div>\n",
              "<style scoped>\n",
              "    .dataframe tbody tr th:only-of-type {\n",
              "        vertical-align: middle;\n",
              "    }\n",
              "\n",
              "    .dataframe tbody tr th {\n",
              "        vertical-align: top;\n",
              "    }\n",
              "\n",
              "    .dataframe thead th {\n",
              "        text-align: right;\n",
              "    }\n",
              "</style>\n",
              "<table border=\"1\" class=\"dataframe\">\n",
              "  <thead>\n",
              "    <tr style=\"text-align: right;\">\n",
              "      <th></th>\n",
              "      <th>Date Posted</th>\n",
              "      <th>Text</th>\n",
              "      <th>Region</th>\n",
              "      <th>Label</th>\n",
              "    </tr>\n",
              "  </thead>\n",
              "  <tbody>\n",
              "    <tr>\n",
              "      <th>0</th>\n",
              "      <td>2/11/20</td>\n",
              "      <td>Just in: Novel coronavirus named 'Covid-19': U...</td>\n",
              "      <td>India</td>\n",
              "      <td>1</td>\n",
              "    </tr>\n",
              "    <tr>\n",
              "      <th>1</th>\n",
              "      <td>2/12/20</td>\n",
              "      <td>WHO officially names #coronavirus as Covid-19....</td>\n",
              "      <td>India</td>\n",
              "      <td>1</td>\n",
              "    </tr>\n",
              "    <tr>\n",
              "      <th>2</th>\n",
              "      <td>2/12/20</td>\n",
              "      <td>The #UN #health agency announced that \"COVID-1...</td>\n",
              "      <td>India</td>\n",
              "      <td>1</td>\n",
              "    </tr>\n",
              "    <tr>\n",
              "      <th>3</th>\n",
              "      <td>2/14/20</td>\n",
              "      <td>The Indian Embassy in Tokyo has said that one ...</td>\n",
              "      <td>India</td>\n",
              "      <td>1</td>\n",
              "    </tr>\n",
              "    <tr>\n",
              "      <th>4</th>\n",
              "      <td>2/15/20</td>\n",
              "      <td>Ground Zero | How Kerala used its experience i...</td>\n",
              "      <td>India</td>\n",
              "      <td>1</td>\n",
              "    </tr>\n",
              "  </tbody>\n",
              "</table>\n",
              "</div>"
            ],
            "text/plain": [
              "  Date Posted                                               Text Region  Label\n",
              "0     2/11/20  Just in: Novel coronavirus named 'Covid-19': U...  India      1\n",
              "1     2/12/20  WHO officially names #coronavirus as Covid-19....  India      1\n",
              "2     2/12/20  The #UN #health agency announced that \"COVID-1...  India      1\n",
              "3     2/14/20  The Indian Embassy in Tokyo has said that one ...  India      1\n",
              "4     2/15/20  Ground Zero | How Kerala used its experience i...  India      1"
            ]
          },
          "metadata": {},
          "execution_count": 7
        }
      ]
    },
    {
      "cell_type": "markdown",
      "metadata": {
        "id": "6nlAtrfstX_4"
      },
      "source": [
        "## Read Fake News"
      ]
    },
    {
      "cell_type": "code",
      "metadata": {
        "colab": {
          "base_uri": "https://localhost:8080/",
          "height": 204
        },
        "id": "EtIeEs2RaUnJ",
        "outputId": "b861c868-5943-45ca-c3df-69915d247840"
      },
      "source": [
        "fake = pd.read_csv(\"/content/drive/MyDrive/multivariante/raw/fakeNews.csv\")[[\"Date Posted\", \"Text\", \"Region\", \"Binary Label\"]].rename(columns={\"Binary Label\": \"Label\"})\n",
        "fake.head()"
      ],
      "execution_count": 8,
      "outputs": [
        {
          "output_type": "execute_result",
          "data": {
            "text/html": [
              "<div>\n",
              "<style scoped>\n",
              "    .dataframe tbody tr th:only-of-type {\n",
              "        vertical-align: middle;\n",
              "    }\n",
              "\n",
              "    .dataframe tbody tr th {\n",
              "        vertical-align: top;\n",
              "    }\n",
              "\n",
              "    .dataframe thead th {\n",
              "        text-align: right;\n",
              "    }\n",
              "</style>\n",
              "<table border=\"1\" class=\"dataframe\">\n",
              "  <thead>\n",
              "    <tr style=\"text-align: right;\">\n",
              "      <th></th>\n",
              "      <th>Date Posted</th>\n",
              "      <th>Text</th>\n",
              "      <th>Region</th>\n",
              "      <th>Label</th>\n",
              "    </tr>\n",
              "  </thead>\n",
              "  <tbody>\n",
              "    <tr>\n",
              "      <th>0</th>\n",
              "      <td>2/7/20</td>\n",
              "      <td>Tencent revealed the real number of deaths.\\t\\t</td>\n",
              "      <td>Europe</td>\n",
              "      <td>0</td>\n",
              "    </tr>\n",
              "    <tr>\n",
              "      <th>1</th>\n",
              "      <td>2/7/20</td>\n",
              "      <td>Taking chlorine dioxide helps fight coronavir...</td>\n",
              "      <td>Europe</td>\n",
              "      <td>0</td>\n",
              "    </tr>\n",
              "    <tr>\n",
              "      <th>2</th>\n",
              "      <td>2/7/20</td>\n",
              "      <td>This video shows workmen uncovering a bat-inf...</td>\n",
              "      <td>India</td>\n",
              "      <td>0</td>\n",
              "    </tr>\n",
              "    <tr>\n",
              "      <th>3</th>\n",
              "      <td>2/7/20</td>\n",
              "      <td>The Asterix comic books and The Simpsons pred...</td>\n",
              "      <td>India</td>\n",
              "      <td>0</td>\n",
              "    </tr>\n",
              "    <tr>\n",
              "      <th>4</th>\n",
              "      <td>2/7/20</td>\n",
              "      <td>Chinese President Xi Jinping visited a mosque...</td>\n",
              "      <td>India</td>\n",
              "      <td>0</td>\n",
              "    </tr>\n",
              "  </tbody>\n",
              "</table>\n",
              "</div>"
            ],
            "text/plain": [
              "  Date Posted                                               Text  Region  Label\n",
              "0      2/7/20    Tencent revealed the real number of deaths.\\t\\t  Europe      0\n",
              "1      2/7/20   Taking chlorine dioxide helps fight coronavir...  Europe      0\n",
              "2      2/7/20   This video shows workmen uncovering a bat-inf...   India      0\n",
              "3      2/7/20   The Asterix comic books and The Simpsons pred...   India      0\n",
              "4      2/7/20   Chinese President Xi Jinping visited a mosque...   India      0"
            ]
          },
          "metadata": {},
          "execution_count": 8
        }
      ]
    },
    {
      "cell_type": "markdown",
      "metadata": {
        "id": "ysL17OxTtbaa"
      },
      "source": [
        "## Concatenate Dataset and transform"
      ]
    },
    {
      "cell_type": "code",
      "metadata": {
        "colab": {
          "base_uri": "https://localhost:8080/",
          "height": 204
        },
        "id": "41E5a_graVfL",
        "outputId": "5bf536ef-e7ad-4f59-ce7d-2e7e7ccc0212"
      },
      "source": [
        "dataset = pd.concat((truthful,fake), axis=0)\n",
        "dataset = dataset.dropna(subset=[\"Text\", \"Region\", \"Label\"])\n",
        "dataset.head()"
      ],
      "execution_count": 9,
      "outputs": [
        {
          "output_type": "execute_result",
          "data": {
            "text/html": [
              "<div>\n",
              "<style scoped>\n",
              "    .dataframe tbody tr th:only-of-type {\n",
              "        vertical-align: middle;\n",
              "    }\n",
              "\n",
              "    .dataframe tbody tr th {\n",
              "        vertical-align: top;\n",
              "    }\n",
              "\n",
              "    .dataframe thead th {\n",
              "        text-align: right;\n",
              "    }\n",
              "</style>\n",
              "<table border=\"1\" class=\"dataframe\">\n",
              "  <thead>\n",
              "    <tr style=\"text-align: right;\">\n",
              "      <th></th>\n",
              "      <th>Date Posted</th>\n",
              "      <th>Text</th>\n",
              "      <th>Region</th>\n",
              "      <th>Label</th>\n",
              "    </tr>\n",
              "  </thead>\n",
              "  <tbody>\n",
              "    <tr>\n",
              "      <th>0</th>\n",
              "      <td>2/11/20</td>\n",
              "      <td>Just in: Novel coronavirus named 'Covid-19': U...</td>\n",
              "      <td>India</td>\n",
              "      <td>1</td>\n",
              "    </tr>\n",
              "    <tr>\n",
              "      <th>1</th>\n",
              "      <td>2/12/20</td>\n",
              "      <td>WHO officially names #coronavirus as Covid-19....</td>\n",
              "      <td>India</td>\n",
              "      <td>1</td>\n",
              "    </tr>\n",
              "    <tr>\n",
              "      <th>2</th>\n",
              "      <td>2/12/20</td>\n",
              "      <td>The #UN #health agency announced that \"COVID-1...</td>\n",
              "      <td>India</td>\n",
              "      <td>1</td>\n",
              "    </tr>\n",
              "    <tr>\n",
              "      <th>3</th>\n",
              "      <td>2/14/20</td>\n",
              "      <td>The Indian Embassy in Tokyo has said that one ...</td>\n",
              "      <td>India</td>\n",
              "      <td>1</td>\n",
              "    </tr>\n",
              "    <tr>\n",
              "      <th>4</th>\n",
              "      <td>2/15/20</td>\n",
              "      <td>Ground Zero | How Kerala used its experience i...</td>\n",
              "      <td>India</td>\n",
              "      <td>1</td>\n",
              "    </tr>\n",
              "  </tbody>\n",
              "</table>\n",
              "</div>"
            ],
            "text/plain": [
              "  Date Posted                                               Text Region  Label\n",
              "0     2/11/20  Just in: Novel coronavirus named 'Covid-19': U...  India      1\n",
              "1     2/12/20  WHO officially names #coronavirus as Covid-19....  India      1\n",
              "2     2/12/20  The #UN #health agency announced that \"COVID-1...  India      1\n",
              "3     2/14/20  The Indian Embassy in Tokyo has said that one ...  India      1\n",
              "4     2/15/20  Ground Zero | How Kerala used its experience i...  India      1"
            ]
          },
          "metadata": {},
          "execution_count": 9
        }
      ]
    },
    {
      "cell_type": "code",
      "metadata": {
        "colab": {
          "base_uri": "https://localhost:8080/",
          "height": 296
        },
        "id": "nstGZFnmeEjQ",
        "outputId": "a81bf508-d6be-4dcd-f3a0-3565cd89a1ad"
      },
      "source": [
        "_ = plt.hist(dataset.Label.values)\n",
        "plt.xticks((0,1))\n",
        "plt.xlabel(\"Label index\")\n",
        "plt.ylabel(\"training examples\")"
      ],
      "execution_count": 10,
      "outputs": [
        {
          "output_type": "execute_result",
          "data": {
            "text/plain": [
              "Text(0, 0.5, 'training examples')"
            ]
          },
          "metadata": {},
          "execution_count": 10
        },
        {
          "output_type": "display_data",
          "data": {
            "image/png": "[encoded data removed]",
            "text/plain": [
              "<Figure size 432x288 with 1 Axes>"
            ]
          },
          "metadata": {
            "needs_background": "light"
          }
        }
      ]
    },
    {
      "cell_type": "markdown",
      "metadata": {
        "id": "VuxwdB7PtgXG"
      },
      "source": [
        "## Extract manual features from text"
      ]
    },
    {
      "cell_type": "code",
      "metadata": {
        "colab": {
          "base_uri": "https://localhost:8080/",
          "height": 204
        },
        "id": "Y0C72YPdjmpf",
        "outputId": "de75c10f-f9b6-4f5a-b350-eda703aa200e"
      },
      "source": [
        "dataset = text_featurize(dataset, \"Text\")\n",
        "dataset.head()"
      ],
      "execution_count": 11,
      "outputs": [
        {
          "output_type": "execute_result",
          "data": {
            "text/html": [
              "<div>\n",
              "<style scoped>\n",
              "    .dataframe tbody tr th:only-of-type {\n",
              "        vertical-align: middle;\n",
              "    }\n",
              "\n",
              "    .dataframe tbody tr th {\n",
              "        vertical-align: top;\n",
              "    }\n",
              "\n",
              "    .dataframe thead th {\n",
              "        text-align: right;\n",
              "    }\n",
              "</style>\n",
              "<table border=\"1\" class=\"dataframe\">\n",
              "  <thead>\n",
              "    <tr style=\"text-align: right;\">\n",
              "      <th></th>\n",
              "      <th>Date Posted</th>\n",
              "      <th>Text</th>\n",
              "      <th>Region</th>\n",
              "      <th>Label</th>\n",
              "      <th>PCW</th>\n",
              "      <th>PC</th>\n",
              "      <th>L</th>\n",
              "      <th>PP1</th>\n",
              "      <th>RES</th>\n",
              "      <th>SW</th>\n",
              "      <th>OW</th>\n",
              "    </tr>\n",
              "  </thead>\n",
              "  <tbody>\n",
              "    <tr>\n",
              "      <th>0</th>\n",
              "      <td>2/11/20</td>\n",
              "      <td>Just in: Novel coronavirus named 'Covid-19': U...</td>\n",
              "      <td>India</td>\n",
              "      <td>1</td>\n",
              "      <td>0.200000</td>\n",
              "      <td>0.117647</td>\n",
              "      <td>10</td>\n",
              "      <td>0.0</td>\n",
              "      <td>0.0</td>\n",
              "      <td>0.0</td>\n",
              "      <td>0.0</td>\n",
              "    </tr>\n",
              "    <tr>\n",
              "      <th>1</th>\n",
              "      <td>2/12/20</td>\n",
              "      <td>WHO officially names #coronavirus as Covid-19....</td>\n",
              "      <td>India</td>\n",
              "      <td>1</td>\n",
              "      <td>0.111111</td>\n",
              "      <td>0.062802</td>\n",
              "      <td>9</td>\n",
              "      <td>0.0</td>\n",
              "      <td>0.0</td>\n",
              "      <td>0.0</td>\n",
              "      <td>0.0</td>\n",
              "    </tr>\n",
              "    <tr>\n",
              "      <th>2</th>\n",
              "      <td>2/12/20</td>\n",
              "      <td>The #UN #health agency announced that \"COVID-1...</td>\n",
              "      <td>India</td>\n",
              "      <td>1</td>\n",
              "      <td>0.100000</td>\n",
              "      <td>0.069930</td>\n",
              "      <td>20</td>\n",
              "      <td>0.0</td>\n",
              "      <td>0.0</td>\n",
              "      <td>0.0</td>\n",
              "      <td>0.0</td>\n",
              "    </tr>\n",
              "    <tr>\n",
              "      <th>3</th>\n",
              "      <td>2/14/20</td>\n",
              "      <td>The Indian Embassy in Tokyo has said that one ...</td>\n",
              "      <td>India</td>\n",
              "      <td>1</td>\n",
              "      <td>0.000000</td>\n",
              "      <td>0.032258</td>\n",
              "      <td>22</td>\n",
              "      <td>0.0</td>\n",
              "      <td>0.0</td>\n",
              "      <td>0.0</td>\n",
              "      <td>0.0</td>\n",
              "    </tr>\n",
              "    <tr>\n",
              "      <th>4</th>\n",
              "      <td>2/15/20</td>\n",
              "      <td>Ground Zero | How Kerala used its experience i...</td>\n",
              "      <td>India</td>\n",
              "      <td>1</td>\n",
              "      <td>0.038462</td>\n",
              "      <td>0.080214</td>\n",
              "      <td>26</td>\n",
              "      <td>0.0</td>\n",
              "      <td>0.0</td>\n",
              "      <td>0.0</td>\n",
              "      <td>0.0</td>\n",
              "    </tr>\n",
              "  </tbody>\n",
              "</table>\n",
              "</div>"
            ],
            "text/plain": [
              "  Date Posted                                               Text  ...   SW   OW\n",
              "0     2/11/20  Just in: Novel coronavirus named 'Covid-19': U...  ...  0.0  0.0\n",
              "1     2/12/20  WHO officially names #coronavirus as Covid-19....  ...  0.0  0.0\n",
              "2     2/12/20  The #UN #health agency announced that \"COVID-1...  ...  0.0  0.0\n",
              "3     2/14/20  The Indian Embassy in Tokyo has said that one ...  ...  0.0  0.0\n",
              "4     2/15/20  Ground Zero | How Kerala used its experience i...  ...  0.0  0.0\n",
              "\n",
              "[5 rows x 11 columns]"
            ]
          },
          "metadata": {},
          "execution_count": 11
        }
      ]
    },
    {
      "cell_type": "markdown",
      "metadata": {
        "id": "5-PP3mCUtj9c"
      },
      "source": [
        "## Observe the distributions of text length on both truthful and fake ds"
      ]
    },
    {
      "cell_type": "code",
      "metadata": {
        "colab": {
          "base_uri": "https://localhost:8080/",
          "height": 296
        },
        "id": "E0fHZspTwkec",
        "outputId": "2486bdfe-b30a-4e33-c942-199b8eb4a23f"
      },
      "source": [
        "fig, (ax1,ax2) = plt.subplots(1,2, sharex=True, sharey=True)\n",
        "_ = ax1.hist(dataset[dataset.Label == 0].PC.values, bins=45)\n",
        "ax1.set_xlabel(\"Fake: Number of words\")\n",
        "_ = ax2.hist(dataset[dataset.Label==1].PC.values, bins=20)\n",
        "ax2.set_xlabel(\"Truthful: Number of Words\")\n",
        "ax1.set_ylabel(\"Frequency\")"
      ],
      "execution_count": 12,
      "outputs": [
        {
          "output_type": "execute_result",
          "data": {
            "text/plain": [
              "Text(0, 0.5, 'Frequency')"
            ]
          },
          "metadata": {},
          "execution_count": 12
        },
        {
          "output_type": "display_data",
          "data": {
            "image/png": "[encoded data removed]",
            "text/plain": [
              "<Figure size 432x288 with 2 Axes>"
            ]
          },
          "metadata": {
            "needs_background": "light"
          }
        }
      ]
    },
    {
      "cell_type": "markdown",
      "metadata": {
        "id": "1WTIO8JItumm"
      },
      "source": [
        "## Get documents as tokens, and labels"
      ]
    },
    {
      "cell_type": "code",
      "metadata": {
        "colab": {
          "base_uri": "https://localhost:8080/"
        },
        "id": "dGcfTfwFwBMT",
        "outputId": "7f9a3067-bd47-4bb6-af53-e3b9304711ee"
      },
      "source": [
        "from sklearn.preprocessing import LabelEncoder\n",
        "from nltk.tokenize import TweetTokenizer\n",
        "label_encoder = LabelEncoder()\n",
        "tknzr = TweetTokenizer(reduce_len=True, strip_handles=True)\n",
        "\n",
        "documents = dataset.Text.values\n",
        "documents = np.array([tknzr.tokenize(doc) for doc in documents])\n",
        "text_features = dataset[[\"PCW\", \"PC\", \"L\", \"RES\"]].values\n",
        "regions = label_encoder.fit_transform(dataset.Region.values)\n",
        "\n",
        "labels = dataset.Label.values"
      ],
      "execution_count": 13,
      "outputs": [
        {
          "output_type": "stream",
          "name": "stderr",
          "text": [
            "/usr/local/lib/python3.7/dist-packages/ipykernel_launcher.py:7: VisibleDeprecationWarning: Creating an ndarray from ragged nested sequences (which is a list-or-tuple of lists-or-tuples-or ndarrays with different lengths or shapes) is deprecated. If you meant to do this, you must specify 'dtype=object' when creating the ndarray\n",
            "  import sys\n"
          ]
        }
      ]
    },
    {
      "cell_type": "markdown",
      "metadata": {
        "id": "9XnDmagPt25W"
      },
      "source": [
        "# Get train/test split indices"
      ]
    },
    {
      "cell_type": "code",
      "metadata": {
        "colab": {
          "base_uri": "https://localhost:8080/"
        },
        "id": "WB_qSOQ52M3A",
        "outputId": "f9bd3b7c-84f3-4941-e016-98974fe78711"
      },
      "source": [
        "from sklearn.model_selection import StratifiedShuffleSplit\n",
        "\n",
        "skf = StratifiedShuffleSplit(n_splits=1)\n",
        "for train_index, test_index in skf.split(documents, labels):\n",
        "  print(len(train_index), len(test_index))\n",
        "  X_train_docs, X_test_docs = documents[train_index], documents[test_index]\n",
        "  X_train_feats, X_test_feats = text_features[train_index], text_features[test_index]\n",
        "  X_train_regions, X_test_regions = regions[train_index], regions[test_index]\n",
        "  \n",
        "  y_train, y_test = labels[train_index], labels[test_index]"
      ],
      "execution_count": 14,
      "outputs": [
        {
          "output_type": "stream",
          "name": "stdout",
          "text": [
            "6829 759\n"
          ]
        }
      ]
    },
    {
      "cell_type": "markdown",
      "metadata": {
        "id": "VzQAuvEwt7R0"
      },
      "source": [
        "## Initialize Doc2Vec Language Model and encode documents\n",
        "\n",
        "Notice that Doc2Vec only trains on training data"
      ]
    },
    {
      "cell_type": "code",
      "metadata": {
        "id": "puCNMK3FqJd-"
      },
      "source": [
        "from gensim.models.doc2vec import Doc2Vec, TaggedDocument\n",
        "\n",
        "documents_tweets = [TaggedDocument(doc, [i]) for i, doc in enumerate(X_train_docs)]\n",
        "model_tweets = Doc2Vec(documents_tweets, epochs=50, vector_size=10, window=2, min_count=1, workers=4)\n",
        "vectors_train = np.array([model_tweets.dv[i] for i in range(len(documents_tweets))], dtype='float32')\n",
        "vectors_test = np.array([model_tweets.infer_vector(doc) for doc in X_test_docs])"
      ],
      "execution_count": 15,
      "outputs": []
    },
    {
      "cell_type": "markdown",
      "metadata": {
        "id": "y1MyEV8PuE6B"
      },
      "source": [
        "## Concatenate document vectors and manual features\n"
      ]
    },
    {
      "cell_type": "code",
      "metadata": {
        "id": "QFSCETHXxIao"
      },
      "source": [
        "X_train = np.concatenate((vectors_train, X_train_feats, np.reshape(X_train_regions, (-1,1))), axis=-1)\n",
        "X_test = np.concatenate((vectors_test, X_test_feats, np.reshape(X_test_regions, (-1,1))), axis=-1)"
      ],
      "execution_count": 16,
      "outputs": []
    },
    {
      "cell_type": "markdown",
      "metadata": {
        "id": "Yoz21qZXuP93"
      },
      "source": [
        "## Correlation matrix"
      ]
    },
    {
      "cell_type": "code",
      "metadata": {
        "colab": {
          "base_uri": "https://localhost:8080/",
          "height": 596
        },
        "id": "6h9qlBYS6W75",
        "outputId": "e1a54c44-e182-4c07-ef1f-58bb2b8a7ad8"
      },
      "source": [
        "import seaborn as sns\n",
        "\n",
        "plt.rcParams['figure.figsize'] = [14, 10]\n",
        "corr = np.corrcoef(X_train.T).round(2)\n",
        "\n",
        "\n",
        "mask = np.zeros_like(corr)\n",
        "mask[np.triu_indices_from(mask)] = True\n",
        "with sns.axes_style(\"white\"):\n",
        "    f, ax = plt.subplots()\n",
        "    ax = sns.heatmap(corr, annot=True, mask=mask, vmax=.2, square=True)"
      ],
      "execution_count": 17,
      "outputs": [
        {
          "output_type": "display_data",
          "data": {
            "image/png": "[encoded data removed]",
            "text/plain": [
              "<Figure size 1008x720 with 2 Axes>"
            ]
          },
          "metadata": {}
        }
      ]
    },
    {
      "cell_type": "markdown",
      "metadata": {
        "id": "FfD4z4l2uS0z"
      },
      "source": [
        "## ML classification"
      ]
    },
    {
      "cell_type": "code",
      "metadata": {
        "colab": {
          "base_uri": "https://localhost:8080/"
        },
        "id": "MlICCbd81jKK",
        "outputId": "09ecf83b-4b15-4946-fc93-f57488e574c2"
      },
      "source": [
        "from sklearn.linear_model import SGDClassifier\n",
        "clf = SGDClassifier()\n",
        "clf.fit(X_train, y_train)"
      ],
      "execution_count": 18,
      "outputs": [
        {
          "output_type": "execute_result",
          "data": {
            "text/plain": [
              "SGDClassifier(alpha=0.0001, average=False, class_weight=None,\n",
              "              early_stopping=False, epsilon=0.1, eta0=0.0, fit_intercept=True,\n",
              "              l1_ratio=0.15, learning_rate='optimal', loss='hinge',\n",
              "              max_iter=1000, n_iter_no_change=5, n_jobs=None, penalty='l2',\n",
              "              power_t=0.5, random_state=None, shuffle=True, tol=0.001,\n",
              "              validation_fraction=0.1, verbose=0, warm_start=False)"
            ]
          },
          "metadata": {},
          "execution_count": 18
        }
      ]
    },
    {
      "cell_type": "code",
      "metadata": {
        "colab": {
          "base_uri": "https://localhost:8080/"
        },
        "id": "unaBR4fl248M",
        "outputId": "ffa7de94-9f0d-4b5a-9576-c37e8948c836"
      },
      "source": [
        "from sklearn.metrics import classification_report\n",
        "\n",
        "y_preds = clf.predict(X_test)\n",
        "print(classification_report(y_test, y_preds))"
      ],
      "execution_count": 19,
      "outputs": [
        {
          "output_type": "stream",
          "name": "stdout",
          "text": [
            "              precision    recall  f1-score   support\n",
            "\n",
            "           0       0.85      0.72      0.78       380\n",
            "           1       0.76      0.87      0.81       379\n",
            "\n",
            "    accuracy                           0.80       759\n",
            "   macro avg       0.80      0.80      0.80       759\n",
            "weighted avg       0.80      0.80      0.80       759\n",
            "\n"
          ]
        }
      ]
    },
    {
      "cell_type": "code",
      "metadata": {
        "id": "YWzb4PGN3VRg"
      },
      "source": [
        "np.savetxt(\"drive/My Drive/multivariante/features/train_feats.csv\", X_train, delimiter=',')\n",
        "np.savetxt(\"drive/My Drive/multivariante/features/test_feats.csv\", X_test, delimiter=',')"
      ],
      "execution_count": 20,
      "outputs": []
    }
  ]
}